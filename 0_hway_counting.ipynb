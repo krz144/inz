{
 "cells": [
  {
   "cell_type": "code",
   "execution_count": 2,
   "id": "bbce24cf",
   "metadata": {},
   "outputs": [],
   "source": [
    "import torch\n",
    "from ultralytics import YOLO\n",
    "import cv2\n",
    "\n",
    "assert(torch.cuda.is_available())"
   ]
  },
  {
   "cell_type": "code",
   "execution_count": 3,
   "id": "26900feb",
   "metadata": {},
   "outputs": [],
   "source": [
    "# Create a new YOLO model from scratch\n",
    "# model = YOLO('yolov8n.yaml')\n",
    "\n",
    "# Load a pretrained YOLO model (recommended for training)\n",
    "model = YOLO('yolov8n.pt')"
   ]
  },
  {
   "cell_type": "code",
   "execution_count": 4,
   "id": "715c37aa",
   "metadata": {},
   "outputs": [
    {
     "name": "stderr",
     "output_type": "stream",
     "text": [
      "\n",
      "Found https:\\ultralytics.com\\images\\bus.jpg locally at bus.jpg\n",
      "image 1/1 C:\\Repos\\inz\\bus.jpg: 640x480 4 persons, 1 bus, 1 stop sign, 78.0ms\n",
      "Speed: 2.0ms preprocess, 78.0ms inference, 4.0ms postprocess per image at shape (1, 3, 640, 640)\n"
     ]
    }
   ],
   "source": [
    "results = model('https://ultralytics.com/images/bus.jpg')"
   ]
  },
  {
   "cell_type": "code",
   "execution_count": 5,
   "id": "f0ac2a3e",
   "metadata": {},
   "outputs": [],
   "source": [
    "r = results[0]"
   ]
  },
  {
   "cell_type": "code",
   "execution_count": 13,
   "id": "ea3b7e9d",
   "metadata": {},
   "outputs": [],
   "source": [
    "cv2.imshow(f'frame {0}', r.orig_img)\n",
    "if cv2.waitKey(0) & 0xff==27:\n",
    "    cv2.destroyAllWindows()"
   ]
  },
  {
   "cell_type": "code",
   "execution_count": 28,
   "id": "18652f61",
   "metadata": {},
   "outputs": [
    {
     "name": "stderr",
     "output_type": "stream",
     "text": [
      "WARNING  'Boxes.boxes' is deprecated. Use 'Boxes.data' instead.\n"
     ]
    },
    {
     "data": {
      "text/plain": [
       "ultralytics.yolo.engine.results.Boxes object with attributes:\n",
       "\n",
       "boxes: tensor([[1.7294e+01, 2.3059e+02, 8.0154e+02, 7.6839e+02, 8.7039e-01, 5.0000e+00],\n",
       "        [4.8736e+01, 3.9927e+02, 2.4450e+02, 9.0251e+02, 8.6899e-01, 0.0000e+00],\n",
       "        [6.7027e+02, 3.8025e+02, 8.0986e+02, 8.7570e+02, 8.5354e-01, 0.0000e+00],\n",
       "        [2.2140e+02, 4.0579e+02, 3.4472e+02, 8.5740e+02, 8.1936e-01, 0.0000e+00],\n",
       "        [6.3768e-02, 2.5464e+02, 3.2287e+01, 3.2503e+02, 3.4627e-01, 1.1000e+01],\n",
       "        [0.0000e+00, 5.5100e+02, 6.7099e+01, 8.7393e+02, 3.0122e-01, 0.0000e+00]], device='cuda:0')\n",
       "cls: tensor([ 5.,  0.,  0.,  0., 11.,  0.], device='cuda:0')\n",
       "conf: tensor([0.8704, 0.8690, 0.8535, 0.8194, 0.3463, 0.3012], device='cuda:0')\n",
       "data: tensor([[1.7294e+01, 2.3059e+02, 8.0154e+02, 7.6839e+02, 8.7039e-01, 5.0000e+00],\n",
       "        [4.8736e+01, 3.9927e+02, 2.4450e+02, 9.0251e+02, 8.6899e-01, 0.0000e+00],\n",
       "        [6.7027e+02, 3.8025e+02, 8.0986e+02, 8.7570e+02, 8.5354e-01, 0.0000e+00],\n",
       "        [2.2140e+02, 4.0579e+02, 3.4472e+02, 8.5740e+02, 8.1936e-01, 0.0000e+00],\n",
       "        [6.3768e-02, 2.5464e+02, 3.2287e+01, 3.2503e+02, 3.4627e-01, 1.1000e+01],\n",
       "        [0.0000e+00, 5.5100e+02, 6.7099e+01, 8.7393e+02, 3.0122e-01, 0.0000e+00]], device='cuda:0')\n",
       "id: None\n",
       "is_track: False\n",
       "orig_shape: tensor([1080,  810], device='cuda:0')\n",
       "shape: torch.Size([6, 6])\n",
       "xywh: tensor([[409.4157, 499.4899, 784.2444, 537.7938],\n",
       "        [146.6192, 650.8871, 195.7659, 503.2375],\n",
       "        [740.0625, 627.9742, 139.5914, 495.4500],\n",
       "        [283.0604, 631.5942, 123.3290, 451.6114],\n",
       "        [ 16.1754, 289.8380,  32.2232,  70.3891],\n",
       "        [ 33.5497, 712.4694,  67.0994, 322.9293]], device='cuda:0')\n",
       "xywhn: tensor([[0.5055, 0.4625, 0.9682, 0.4980],\n",
       "        [0.1810, 0.6027, 0.2417, 0.4660],\n",
       "        [0.9137, 0.5815, 0.1723, 0.4588],\n",
       "        [0.3495, 0.5848, 0.1523, 0.4182],\n",
       "        [0.0200, 0.2684, 0.0398, 0.0652],\n",
       "        [0.0414, 0.6597, 0.0828, 0.2990]], device='cuda:0')\n",
       "xyxy: tensor([[1.7294e+01, 2.3059e+02, 8.0154e+02, 7.6839e+02],\n",
       "        [4.8736e+01, 3.9927e+02, 2.4450e+02, 9.0251e+02],\n",
       "        [6.7027e+02, 3.8025e+02, 8.0986e+02, 8.7570e+02],\n",
       "        [2.2140e+02, 4.0579e+02, 3.4472e+02, 8.5740e+02],\n",
       "        [6.3768e-02, 2.5464e+02, 3.2287e+01, 3.2503e+02],\n",
       "        [0.0000e+00, 5.5100e+02, 6.7099e+01, 8.7393e+02]], device='cuda:0')\n",
       "xyxyn: tensor([[2.1350e-02, 2.1351e-01, 9.8955e-01, 7.1147e-01],\n",
       "        [6.0168e-02, 3.6969e-01, 3.0185e-01, 8.3565e-01],\n",
       "        [8.2749e-01, 3.5208e-01, 9.9982e-01, 8.1083e-01],\n",
       "        [2.7333e-01, 3.7573e-01, 4.2559e-01, 7.9389e-01],\n",
       "        [7.8726e-05, 2.3578e-01, 3.9860e-02, 3.0096e-01],\n",
       "        [0.0000e+00, 5.1019e-01, 8.2839e-02, 8.0920e-01]], device='cuda:0')"
      ]
     },
     "execution_count": 28,
     "metadata": {},
     "output_type": "execute_result"
    }
   ],
   "source": [
    "r.boxes"
   ]
  },
  {
   "cell_type": "code",
   "execution_count": null,
   "id": "6561428c",
   "metadata": {},
   "outputs": [],
   "source": []
  }
 ],
 "metadata": {
  "kernelspec": {
   "display_name": "inz",
   "language": "python",
   "name": "inz"
  },
  "language_info": {
   "codemirror_mode": {
    "name": "ipython",
    "version": 3
   },
   "file_extension": ".py",
   "mimetype": "text/x-python",
   "name": "python",
   "nbconvert_exporter": "python",
   "pygments_lexer": "ipython3",
   "version": "3.10.11"
  }
 },
 "nbformat": 4,
 "nbformat_minor": 5
}
